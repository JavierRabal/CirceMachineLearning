{
 "cells": [
  {
   "cell_type": "markdown",
   "metadata": {
    "id": "hVprLWFQ3_dG"
   },
   "source": [
    "# Preparación de Datos e Ingeniería de Características (Feature Engineering)\n",
    "\n",
    "En este notebook, exploramos los fundamentos de la extracción, limpieza, exploración y preparación de datos utilizando diferentes fuentes de datos"
   ]
  },
  {
   "cell_type": "markdown",
   "metadata": {
    "id": "1QtKniQxpXWu"
   },
   "source": [
    "## Introducción a Kaggle\n",
    "\n",
    "Aprendamos qué es Kaggle y por qué es una de las plataformas más populares para los científicos de datos.\n",
    "\n",
    "Kaggle es una plataforma de comunidad on line para científicos de datos y entusiastas del aprendizaje automático. Kaggle permite a los usuarios colaborar con otros usuarios, encontrar y publicar conjuntos de datos, usar notebooks integrados con GPU y competir con otros científicos de datos para resolver desafíos de ciencia de datos. El objetivo de esta plataforma en línea (fundada en 2010 por Anthony Goldbloom y Jeremy Howard y adquirida por Google en 2017) es ayudar a los profesionales y estudiantes a alcanzar sus objetivos en su viaje de ciencia de datos con las poderosas herramientas y recursos que proporciona. A partir de hoy (2021), hay más de 8 millones de usuarios registrados en Kaggle.\n",
    "\n",
    "Kaggle ofrece una plataforma de IPython Notebooks para cada usuario de forma gratuita. En los notebooks de Kaggle, puede activar una GPU en cualquier momento. Se le permite usar la GPU activamente durante un máximo de 30 horas por semana. La GPU proporcionada por Kaggle es una GPU Nvidia Tesla P100 con 16 GB de memoria."
   ]
  },
  {
   "cell_type": "markdown",
   "metadata": {
    "id": "zcu_-nM54hoo"
   },
   "source": [
    "## EXERCICIO 1\n",
    "\n",
    "Usemos la API de Kaggle.\n",
    "\n",
    "Creamos una cuenta en [Kaggle](https://www.kaggle.com/) y genere una clave API para conectarse programáticamente.\n",
    "\n",
    "La [Kaggle API](https://www.kaggle.com/general/74235) se puede usar muy fácilmente en Colab u otros entornos. En Colab, las bibliotecas de Kaggle para usar la API ya están instaladas"
   ]
  },
  {
   "cell_type": "code",
   "execution_count": null,
   "metadata": {
    "id": "5N2Nvtb14iSD"
   },
   "outputs": [],
   "source": [
    "#! pip install -q kaggle #installation is not needed in colab"
   ]
  },
  {
   "cell_type": "code",
   "execution_count": null,
   "metadata": {
    "id": "T86oR-xwCo0R"
   },
   "outputs": [],
   "source": [
    "#!pip show kaggle  #installation is not needed in colab"
   ]
  },
  {
   "cell_type": "code",
   "execution_count": null,
   "metadata": {
    "colab": {
     "base_uri": "https://localhost:8080/",
     "height": 71
    },
    "id": "VG6PahYM4rUx",
    "outputId": "07d5ad1d-d2d3-4253-f9b8-0b5b2a1ba280"
   },
   "outputs": [],
   "source": [
    "#another way of uploading files in Colab\n",
    "from google.colab import files\n",
    "files.upload();"
   ]
  },
  {
   "cell_type": "code",
   "execution_count": null,
   "metadata": {
    "colab": {
     "base_uri": "https://localhost:8080/"
    },
    "id": "fMxxJV3p5JFn",
    "outputId": "7744e51f-2b13-42a8-d279-308394d20d9f"
   },
   "outputs": [],
   "source": [
    "#follow instructions in the url above to use the kaggle credentials file\n",
    "!mkdir ~/.kaggle    #make a dir\n",
    "!cp kaggle.json ~/.kaggle/   #cp file\n",
    "!chmod 600 ~/.kaggle/kaggle.json #change permisssions\n",
    "!ls ~/ -a #list all dirs in ~/"
   ]
  },
  {
   "cell_type": "code",
   "execution_count": null,
   "metadata": {
    "colab": {
     "base_uri": "https://localhost:8080/"
    },
    "id": "ivBGv53R6I5_",
    "outputId": "af2cb8f6-c109-4180-fd53-2f4b95baadf5"
   },
   "outputs": [],
   "source": [
    "!kaggle competitions list #download -c house-prices-advanced-regression-techniques"
   ]
  },
  {
   "cell_type": "markdown",
   "metadata": {
    "id": "l43zi7i2Ew_h"
   },
   "source": [
    "## Cargar datos de Kaggle\n",
    "\n",
    "Usamos la interfaz API para cargar los datos de [House Prices - Advanced Regression Techniques](https://www.kaggle.com/competitions/house-prices-advanced-regression-techniques)."
   ]
  },
  {
   "cell_type": "code",
   "execution_count": null,
   "metadata": {
    "colab": {
     "base_uri": "https://localhost:8080/"
    },
    "id": "WuJX0YJoDRuC",
    "outputId": "bf17168e-8305-481e-9350-fedc2dcc1a10"
   },
   "outputs": [],
   "source": [
    "!kaggle competitions download -c house-prices-advanced-regression-techniques"
   ]
  },
  {
   "cell_type": "code",
   "execution_count": null,
   "metadata": {
    "colab": {
     "base_uri": "https://localhost:8080/"
    },
    "id": "p2OOkLPv7CS9",
    "outputId": "e4e45193-0ad0-4a8f-bbec-ea326a5d8a25"
   },
   "outputs": [],
   "source": [
    "#unzip the files\n",
    "!unzip house-prices-advanced-regression-techniques.zip"
   ]
  },
  {
   "cell_type": "markdown",
   "metadata": {
    "id": "gpMGErPhoq03"
   },
   "source": [
    "## EXERCICE 2\n",
    "\n",
    "Explore los datos que hemos descargado.\n",
    "\n",
    "Cargue los  `train.csv`, `test.csv` y `sample_submission.csv` en data frames y explórelos mostrando `.head()` y `.columns`"
   ]
  },
  {
   "cell_type": "code",
   "execution_count": 6,
   "metadata": {
    "id": "Tm5vP6oj3DwZ"
   },
   "outputs": [],
   "source": [
    "import pandas as pd\n",
    "import matplotlib.pyplot as plt\n",
    "%matplotlib inline"
   ]
  },
  {
   "cell_type": "code",
   "execution_count": null,
   "metadata": {
    "colab": {
     "base_uri": "https://localhost:8080/"
    },
    "id": "KbB7YHPpEfQK",
    "outputId": "92b6fdff-e1ae-4b5f-a74c-47a2a7d0c573"
   },
   "outputs": [],
   "source": [
    "#Read the train data\n",
    "train = #your code\n",
    "\n",
    "# Read the test data\n",
    "test = #your code\n",
    "# Print train and test columns\n",
    "print('Train columns:', #your code)\n",
    "print('Test columns:', #your code)"
   ]
  },
  {
   "cell_type": "code",
   "execution_count": null,
   "metadata": {
    "colab": {
     "base_uri": "https://localhost:8080/"
    },
    "id": "dNorq8U4soc4",
    "outputId": "875feee1-b84b-4441-e612-bde6ffe6502e"
   },
   "outputs": [],
   "source": [
    "# Show the number of data samples or rows and features in each data sample\n",
    "num_registros, num_vars = #your code\n",
    "\n",
    "print(f\"Count of data samples: {num_registros}\")\n",
    "print(f\"Count of features: {num_vars}\")"
   ]
  },
  {
   "cell_type": "code",
   "execution_count": null,
   "metadata": {
    "colab": {
     "base_uri": "https://localhost:8080/"
    },
    "id": "tQSoeT-8Ehyr",
    "outputId": "5b56daea-362f-4e57-d48d-e4cc9392b147"
   },
   "outputs": [],
   "source": [
    "# Read the sample submission file\n",
    "sample_submission = #your code\n",
    "\n",
    "# Look at the head() of the sample submission\n",
    "#your code"
   ]
  },
  {
   "cell_type": "markdown",
   "metadata": {
    "id": "_7YhPwQQPXPR"
   },
   "source": [
    "## Entender los datos"
   ]
  },
  {
   "cell_type": "markdown",
   "metadata": {
    "id": "T4InADMPg7-S"
   },
   "source": [
    "Se requiere un análisis exploratorio de datos (EDA) para comprender los datos y prepararse para la ingeniería de características.\n",
    "\n",
    "Primero identificamos los diferentes tipos de datos.\n",
    "\n",
    "Después de eso, los exploramos aplicando diferentes estrategias:\n",
    "\n",
    "- Para las características numéricas, exploramos su distribución estadística y su relación con la variable objetivo.\n",
    "\n",
    "- Para las características categóricas, exploramos sus recuentos de muestras y la relación con los valores objetivo para cada categoría."
   ]
  },
  {
   "cell_type": "code",
   "execution_count": null,
   "metadata": {
    "id": "U4OFedSXhhJB"
   },
   "outputs": [],
   "source": [
    "train.info()"
   ]
  },
  {
   "cell_type": "markdown",
   "metadata": {
    "id": "cHASOq20VGXY"
   },
   "source": [
    "### Exploración de características numéricas"
   ]
  },
  {
   "cell_type": "markdown",
   "metadata": {
    "id": "p5gVeWhNVGXY"
   },
   "source": [
    "Normalmente exploramos las características numéricas que mostramos:\n",
    "\n",
    "El histograma (normal o acumulativo) para comprender la distribución de valores en el conjunto de datos.\n",
    "El diagrama de dispersión de la característica y la variable objetivo, para comparar la relación entre ellas.\n"
   ]
  },
  {
   "cell_type": "code",
   "execution_count": null,
   "metadata": {
    "colab": {
     "base_uri": "https://localhost:8080/",
     "height": 466
    },
    "id": "TJ-z60UGYrC2",
    "outputId": "d9abb97f-bb44-4457-f271-43f2de2c9f45"
   },
   "outputs": [],
   "source": [
    "### HISTOGRAMS to undestand the distribution of values in the data set\n",
    "# Generate interface for a graph\n",
    "plt.figure()\n",
    "\n",
    "# Draw histogram with the distribution of the variable  -> GrLivArea: habitable surface\n",
    "plt.hist(train[\"GrLivArea\"], bins=30)\n",
    "plt.xlabel(\"GrLivArea\")"
   ]
  },
  {
   "cell_type": "code",
   "execution_count": null,
   "metadata": {
    "colab": {
     "base_uri": "https://localhost:8080/",
     "height": 466
    },
    "id": "rMocew1ZZO2E",
    "outputId": "a3447143-97b2-4c59-bd9d-611ea239f211"
   },
   "outputs": [],
   "source": [
    "# Generate interface for a graph\n",
    "plt.figure()\n",
    "\n",
    "# Draw histogram with the cumulative distribution of the variable -> GrLivArea: habitable surface\n",
    "plt.hist(train[\"GrLivArea\"], bins=20, cumulative=True)\n",
    "plt.xlabel(\"GrLivArea\")"
   ]
  },
  {
   "cell_type": "code",
   "execution_count": null,
   "metadata": {
    "colab": {
     "base_uri": "https://localhost:8080/",
     "height": 489
    },
    "id": "0rVkmzHYY7c7",
    "outputId": "cd63bd82-c82b-4cad-f3b7-ce5f42b1805b"
   },
   "outputs": [],
   "source": [
    "#### SCATTER PLOT with target, to compare the relationship between them\n",
    "# Generate interface for a graph\n",
    "plt.figure()\n",
    "plt.title(f\"Sale price with respect to the habitable surface\")\n",
    "\n",
    "# Draw the scatter plot of the variable -> GrLivArea: habitable surface and the target  SalePrice: price, target variable for prediction\n",
    "plt.scatter(train[\"GrLivArea\"], train[\"SalePrice\"], s=20)  #s size of the marker\n",
    "plt.xlabel(\"GrLivArea\")\n",
    "plt.ylabel(\"SalePrice\")\n"
   ]
  },
  {
   "cell_type": "markdown",
   "metadata": {
    "id": "7tdPFhhgmp5M"
   },
   "source": [
    "## EXERCICIO 3\n",
    "\n",
    "Dibuja el histograma y los diagramas de dispersión para todas las variables numéricas.\n",
    "\n",
    "Recomendación: haga un diagrama con dos subtramas en una fila y dos columnas para cada característica."
   ]
  },
  {
   "cell_type": "code",
   "execution_count": null,
   "metadata": {
    "colab": {
     "base_uri": "https://localhost:8080/"
    },
    "id": "tG1pz24NmyZD",
    "outputId": "5b0187b1-b7a0-43f1-863b-b009e0f2da7a"
   },
   "outputs": [],
   "source": [
    "# Identification of numeric columns\n",
    "num_features = train.columns[train.dtypes != \"object\"]\n",
    "print(num_features)"
   ]
  },
  {
   "cell_type": "code",
   "execution_count": null,
   "metadata": {
    "colab": {
     "base_uri": "https://localhost:8080/",
     "height": 1000
    },
    "id": "mZF6aXkOnHWh",
    "outputId": "4f680bb0-bedd-4868-a962-9e0ccb40430d"
   },
   "outputs": [],
   "source": [
    "# Interaction variable definition\n",
    "target = \"SalePrice\"\n",
    "y = train[target]\n",
    "\n",
    "# For each numeric variable...\n",
    "for col in num_features:\n",
    "\n",
    "    # Determine data to focus on\n",
    "    x = train[col]\n",
    "\n",
    "    # Generate interface for two graphs\n",
    "    fig, axs = plt.subplots(1, 2, figsize=(12, 4))\n",
    "    fig.suptitle(col)\n",
    "\n",
    "    # Draw on the left the histogram with the distribution of the variable\n",
    "    axs[0].hist(x, bins=20)\n",
    "    axs[0].set_xlabel(col)\n",
    "\n",
    "    # Draw the scatterplot on the right with the interaction between the variable of interest and the response variable\n",
    "    #your code\n",
    "\n",
    "    # show visualization\n",
    "    #your code"
   ]
  },
  {
   "cell_type": "markdown",
   "metadata": {
    "id": "wwwbFzmDtqlT"
   },
   "source": [
    "## EJERCICIO 4\n",
    "\n",
    "Utilice el método `.describe()`  para ver la descripción estadística de las características numéricas del DataFrame de `train.csv`\n"
   ]
  },
  {
   "cell_type": "code",
   "execution_count": null,
   "metadata": {
    "colab": {
     "base_uri": "https://localhost:8080/",
     "height": 1000
    },
    "id": "9h-GjeaRtTbT",
    "outputId": "67008702-7f34-41c9-e24c-5cc8038c1fe9"
   },
   "outputs": [],
   "source": [
    "#your code"
   ]
  },
  {
   "cell_type": "markdown",
   "metadata": {
    "id": "Wl69AFYqonA6"
   },
   "source": [
    "### Exploración de características categóricas\n",
    "\n",
    "Normalmente exploramos las características categóricas que mostramos:\n",
    "\n",
    "- El gráfico de barras de los recuentos de muestras en cada categoría, para ver si el conjunto de datos está equilibrado en todas las categorías.\n",
    "\n",
    "- El gráfico de barras de los valores objetivo para cada categoría, para ver cómo varía el objetivo con respecto a las categorías."
   ]
  },
  {
   "cell_type": "code",
   "execution_count": null,
   "metadata": {
    "colab": {
     "base_uri": "https://localhost:8080/"
    },
    "id": "2g6Y2s8ebYLg",
    "outputId": "934062ac-590f-4aa4-ea34-e9db53935138"
   },
   "outputs": [],
   "source": [
    "# Determine data to focus on  -> BldgType:Type of dwelling\n",
    "df_counts = train.groupby(\"BldgType\")['Id'].count()\n",
    "x = df_counts.index.tolist()\n",
    "h = df_counts.values.tolist()\n",
    "print(x)\n",
    "print(h)"
   ]
  },
  {
   "cell_type": "code",
   "execution_count": null,
   "metadata": {
    "colab": {
     "base_uri": "https://localhost:8080/",
     "height": 466
    },
    "id": "rOJvG-AGbSfe",
    "outputId": "7ff80128-06f7-437c-f15e-124a7e961891"
   },
   "outputs": [],
   "source": [
    "# Generate interface for a graph\n",
    "plt.figure()\n",
    "\n",
    "# Draw the bar chart with counts on the left\n",
    "plt.bar(x, h)\n",
    "plt.xlabel('BldgType')\n",
    "plt.ylabel('Num cases')"
   ]
  },
  {
   "cell_type": "code",
   "execution_count": null,
   "metadata": {
    "colab": {
     "base_uri": "https://localhost:8080/"
    },
    "id": "hFbz4jQ0bY_N",
    "outputId": "82d40079-c7e5-45a6-df40-b7d112a66b99"
   },
   "outputs": [],
   "source": [
    "# Determine data to focus on -> Mean price per BldgType:Type of dwelling\n",
    "df_mean_target = train.groupby(\"BldgType\")['SalePrice'].mean()\n",
    "x = df_mean_target.index.tolist()\n",
    "h = df_mean_target.values.tolist()\n",
    "\n",
    "# Get data deviation (standard deviation)\n",
    "df_std_target = train.groupby(\"BldgType\")['SalePrice'].std()\n",
    "errbar = df_std_target.values.tolist()\n",
    "\n",
    "print(x)\n",
    "print(h)\n",
    "print(errbar)"
   ]
  },
  {
   "cell_type": "code",
   "execution_count": null,
   "metadata": {
    "colab": {
     "base_uri": "https://localhost:8080/",
     "height": 466
    },
    "id": "3itxVjhBbQfr",
    "outputId": "050a7b83-4a5f-4e00-e902-3fc3167bbc65"
   },
   "outputs": [],
   "source": [
    "# Generate interface for a graph\n",
    "plt.figure()\n",
    "\n",
    "# Draw the bar chart with interaction between categories and average target with standard deviation information\n",
    "plt.bar(x, h, yerr=errbar)\n",
    "plt.xlabel(\"BldgType\")\n",
    "plt.ylabel(\"Mean SalePrice\")\n"
   ]
  },
  {
   "cell_type": "markdown",
   "metadata": {
    "id": "nkcsmcYAsew0"
   },
   "source": [
    "## EJERCICIO 5\n",
    "\n",
    "Dibuja en gráficos de barras el recuento de muestras y de valores objetivo para todas las variables categóricas.\n",
    "\n",
    "Recomendación: haga un grafico con dos subplots en una fila y dos columnas para cada característica."
   ]
  },
  {
   "cell_type": "code",
   "execution_count": null,
   "metadata": {
    "colab": {
     "base_uri": "https://localhost:8080/"
    },
    "id": "e_EAYqJBtEfi",
    "outputId": "d9346782-c403-4169-c8d1-79ab9cee7e4c"
   },
   "outputs": [],
   "source": [
    "# Identification of categoric columns\n",
    "cat_features = train.columns[train.dtypes == \"object\"]\n",
    "print(cat_features)"
   ]
  },
  {
   "cell_type": "code",
   "execution_count": null,
   "metadata": {
    "colab": {
     "base_uri": "https://localhost:8080/",
     "height": 1000
    },
    "id": "pmHLegiyuZxF",
    "outputId": "36d561b3-6d82-40c8-f21c-bab0cd4259c2"
   },
   "outputs": [],
   "source": [
    "# Interaction variable definition\n",
    "target = \"SalePrice\"\n",
    "\n",
    "# Iterate through each categorical variable...\n",
    "for col in cat_features:\n",
    "\n",
    "    # Determine data to focus on\n",
    "    df_counts = train.groupby(col)['Id'].count()\n",
    "    df_mean_target = train.groupby(col)['SalePrice'].mean()\n",
    "    df_std_target = train.groupby(col)['SalePrice'].std()\n",
    "\n",
    "    # Generate interface for two graphs\n",
    "    fig, axs = plt.subplots(1, 2, figsize=(12, 4))\n",
    "    fig.suptitle(col)\n",
    "\n",
    "    # Draw the bar chart with counts on the left\n",
    "    #your code\n",
    "\n",
    "    # Draw on the right the bar chart with interaction between categories and average response\n",
    "    #your code"
   ]
  },
  {
   "cell_type": "markdown",
   "metadata": {
    "id": "HPywdr_8uIoc"
   },
   "source": [
    "## EJERCICIO 6\n",
    "\n",
    "Utilice el método `.describe()` para ver la descripción estadística de las características categóricas del DataFrame de `train.csv`\n"
   ]
  },
  {
   "cell_type": "code",
   "execution_count": null,
   "metadata": {
    "colab": {
     "base_uri": "https://localhost:8080/",
     "height": 1000
    },
    "id": "b6ySyAyIuIWU",
    "outputId": "58c1299a-7e09-4dbe-cec5-0d81b9b42a7c"
   },
   "outputs": [],
   "source": [
    "#your code"
   ]
  },
  {
   "cell_type": "markdown",
   "metadata": {
    "id": "BlzLomXArx66"
   },
   "source": [
    "## Ingeniería de características (Feature Engineering)\n",
    "\n",
    "Aquí estaríamos buscando valores nulos y duplicados, seleccionando características, codificando características y creando nuevas características.\n",
    "\n",
    "En los siguientes ejemplos, vemos diferentes estrategias de ingeniería de software que podemos aplicar a este conjunto de datos. Se pueden aplicar muchas más."
   ]
  },
  {
   "cell_type": "markdown",
   "metadata": {
    "id": "SDpth2Mml80E"
   },
   "source": [
    "#### Numerical Features"
   ]
  },
  {
   "cell_type": "code",
   "execution_count": null,
   "metadata": {
    "id": "KYknc8EPyIfS"
   },
   "outputs": [],
   "source": [
    "# Change numerical features that are categories to categorical values\n",
    "train['MSSubClass'] = train['MSSubClass'].astype(str)\n",
    "test['MSSubClass'] = test['MSSubClass'].astype(str)\n",
    "train['MoSold'] = train['MoSold'].astype(str)\n",
    "test['MoSold'] = test['MoSold'].astype(str)"
   ]
  },
  {
   "cell_type": "code",
   "execution_count": null,
   "metadata": {
    "colab": {
     "base_uri": "https://localhost:8080/"
    },
    "id": "uocDAt3ByYXi",
    "outputId": "83f5d5d0-4c4e-487e-a7b9-dbe11b538fe8"
   },
   "outputs": [],
   "source": [
    "train[['MSSubClass','MoSold']].info()"
   ]
  },
  {
   "cell_type": "code",
   "execution_count": 26,
   "metadata": {
    "id": "iT0WIJmfy0IC"
   },
   "outputs": [],
   "source": [
    "# correction of outliers\n",
    "train.loc[(train[\"GarageYrBlt\"]==2207), \"GarageYrBlt\"] = 2007"
   ]
  },
  {
   "cell_type": "markdown",
   "metadata": {
    "id": "dIinNrYOzarq"
   },
   "source": [
    "## EJERCICIO 7\n",
    "\n",
    "Cuente el número de valores nulos en las características numéricas y sustituya estos valores con el valor medio de la característica.\n",
    "\n",
    "Nota: Realiza esta substitución para los DataFrames del conjunto de datos de entrenamiento y test"
   ]
  },
  {
   "cell_type": "code",
   "execution_count": null,
   "metadata": {
    "colab": {
     "base_uri": "https://localhost:8080/"
    },
    "id": "WfW2dNVpzszc",
    "outputId": "550207ca-9cf8-44af-b98d-8ec06ef48bca"
   },
   "outputs": [],
   "source": [
    "# Datos de entrenamiento\n",
    "nulls_df = train.isnull().sum()\n",
    "nulls_df.sort_values(ascending = False).head(20)"
   ]
  },
  {
   "cell_type": "markdown",
   "metadata": {
    "id": "KFQrFhdb0mKV"
   },
   "source": [
    "En \"GarageType\" tenemos algunas casas sin información, vamos a codificar estos valores nulos como una nueva categoría de \"No Garage\"."
   ]
  },
  {
   "cell_type": "code",
   "execution_count": 28,
   "metadata": {
    "id": "QmrTzMZz0GjD"
   },
   "outputs": [],
   "source": [
    "# the missing values ​​are changed to the value \"No_Garage\"\n",
    "train[\"GarageType\"] = #your code\n",
    "test[\"GarageType\"] = #your code"
   ]
  },
  {
   "cell_type": "markdown",
   "metadata": {
    "id": "bKEGBl-a0_hb"
   },
   "source": [
    "En \"LotFrontage\" tenemos algunos valores sin información, vamos a asignarles la media de los valores de la característica."
   ]
  },
  {
   "cell_type": "code",
   "execution_count": null,
   "metadata": {
    "id": "4HhHdffR0yhS"
   },
   "outputs": [],
   "source": [
    "# Replace null values ​​with the mean of the entire column\n",
    "train[\"LotFrontage\"] =#your code\n",
    "\n",
    "#important!! apply the transformations  learnt from the train set to the test set\n",
    "test[\"LotFrontage\"] = #your code      "
   ]
  },
  {
   "cell_type": "markdown",
   "metadata": {
    "id": "wuOL61BN1fLr"
   },
   "source": [
    "En \"GarageYrBlt\" tenemos algunos valores nulos y vamos a rellenarlos con el año de construcción del edificio."
   ]
  },
  {
   "cell_type": "code",
   "execution_count": null,
   "metadata": {
    "id": "V1kilBXm0HLr"
   },
   "outputs": [],
   "source": [
    "# Replace null values ​​with the year of construction of the house 'YearBuilt' \n",
    "train[\"GarageYrBlt\"] = #your code\n",
    "test[\"GarageYrBlt\"] = #your code"
   ]
  },
  {
   "cell_type": "markdown",
   "metadata": {
    "id": "wyaoQIa_31V9"
   },
   "source": [
    "Podemos medir la correlación de las características numéricas y los precios objetivo, y las características con bajas correlaciones pueden excluirse del modelo, ya que son menos significativas."
   ]
  },
  {
   "cell_type": "code",
   "execution_count": null,
   "metadata": {
    "colab": {
     "base_uri": "https://localhost:8080/"
    },
    "id": "7CeeEyDX4w4s",
    "outputId": "efd85ced-c1f1-407c-d143-c58710d2f8cf"
   },
   "outputs": [],
   "source": [
    "#get the numerical features after last changes, some columns have changed\n",
    "num_features = train.columns[train.dtypes != \"object\"]\n",
    "df_num=train[num_features]\n",
    "\n",
    "# A dictionary is created with the correlations between the independent variables and the objective variable\n",
    "dict_corr = {}\n",
    "for x in num_features:\n",
    "    corr = df_num[x].corr(df_num['SalePrice'])\n",
    "    dict_corr[x] = corr\n",
    "\n",
    "#sort and display dict\n",
    "dict_corr = sorted(dict_corr.items(), key=lambda x: x[1], reverse=True)\n",
    "dict_corr"
   ]
  },
  {
   "cell_type": "markdown",
   "metadata": {
    "id": "YPIjsLHw6u1c"
   },
   "source": [
    "Podemos crear nuevas variables, combinar algunas de ellas mediante diferentes operaciones.\n",
    "\n",
    "Por ejemplo, calcular una nueva columna llamada `SqFtPerRoom` con los valores de superficie habitable por habitación (como `GrLivArea/(TotRmsAbvGrd+FullBath+HalfBath+KitchenAbvGr` )) y comprobar la correlación con el objetivo."
   ]
  },
  {
   "cell_type": "code",
   "execution_count": null,
   "metadata": {
    "colab": {
     "base_uri": "https://localhost:8080/"
    },
    "id": "49kRaYcO6x9E",
    "outputId": "12e07746-b79e-4d0b-afa3-a86166db2913"
   },
   "outputs": [],
   "source": [
    "# Se crea una nueva variable\n",
    "train[\"SqFtPerRoom\"] = #your code\n",
    "test[\"SqFtPerRoom\"] = #your code\n",
    "\n",
    "\n",
    "print(train[\"SqFtPerRoom\"].corr(train['SalePrice']))"
   ]
  },
  {
   "cell_type": "markdown",
   "metadata": {
    "id": "IGiSf0Px8n4N"
   },
   "source": [
    "También podemos transformar las características, escalando o transformando las características numéricas y utilizando la codificación one-hot para los valores categóricos que no son ordinales."
   ]
  },
  {
   "cell_type": "markdown",
   "metadata": {
    "id": "qpSv47D48ZBM"
   },
   "source": [
    "## EJERCICIO 8\n",
    "\n",
    "Transforme la característica `OverallQual` con los escaladores`StandardScaler(), RobustScaler(), MinMaxScaler()`  y compruebe si la correlación con el objetivo mejora."
   ]
  },
  {
   "cell_type": "code",
   "execution_count": null,
   "metadata": {
    "colab": {
     "base_uri": "https://localhost:8080/"
    },
    "id": "8EMBjQg8-Vss",
    "outputId": "47c0a0ea-0c68-440f-faf3-7012989a9dd5"
   },
   "outputs": [],
   "source": [
    "print('Correlation: ', train['OverallQual']. corr (train['SalePrice']))"
   ]
  },
  {
   "cell_type": "code",
   "execution_count": null,
   "metadata": {
    "colab": {
     "base_uri": "https://localhost:8080/"
    },
    "id": "acxm_2hU-B9t",
    "outputId": "d0a01159-926d-463c-b28b-6b1ae345ddd2"
   },
   "outputs": [],
   "source": [
    "from sklearn.preprocessing import StandardScaler,RobustScaler,MinMaxScaler\n",
    "\n",
    "scalers = [StandardScaler(), RobustScaler(),MinMaxScaler()]\n",
    "\n",
    "#your code"
   ]
  },
  {
   "cell_type": "markdown",
   "metadata": {
    "id": "-OKPkzKLAM57"
   },
   "source": [
    "Haz lo mismo para los transformadores `'PowerTransform\\n(box-cox)', 'PowerTransform\\n(yeo-johnson)', 'QuantileTransformer'`"
   ]
  },
  {
   "cell_type": "code",
   "execution_count": null,
   "metadata": {
    "colab": {
     "base_uri": "https://localhost:8080/"
    },
    "id": "mdVUG4X8ANoA",
    "outputId": "e504c427-a4e4-4e12-9a69-321ea653bfd7"
   },
   "outputs": [],
   "source": [
    "import numpy as np\n",
    "from sklearn.preprocessing import PowerTransformer\n",
    "from sklearn.preprocessing import QuantileTransformer\n",
    "\n",
    "scalers = ['PowerTransform (box-cox)','PowerTransform (yeo-johnson)', 'QuantileTransformer']\n",
    "\n",
    "#your code"
   ]
  },
  {
   "cell_type": "markdown",
   "metadata": {
    "id": "MATW15mPn1Of"
   },
   "source": [
    "#### Características categóricas\n",
    "\n",
    "Codifique una característica categórica con información ordinal en números."
   ]
  },
  {
   "cell_type": "code",
   "execution_count": null,
   "metadata": {
    "id": "uaUinu2T_-Pt"
   },
   "outputs": [],
   "source": [
    "from sklearn.preprocessing import OneHotEncoder"
   ]
  },
  {
   "cell_type": "code",
   "execution_count": null,
   "metadata": {
    "colab": {
     "base_uri": "https://localhost:8080/"
    },
    "id": "R0w7IwE8CsHr",
    "outputId": "eab34e91-dbaf-4f9d-aaa0-d4a1195bae21"
   },
   "outputs": [],
   "source": [
    "# ExterQual: Evaluates the quality of the material on the exterior\n",
    "ExterQual = {}\n",
    "ExterQual['Ex'] = 5 #'Excellent'\n",
    "ExterQual['Gd'] = 4 #'Good'\n",
    "ExterQual['TA'] = 3 #'Average/Typical'\n",
    "ExterQual['Fa'] = 2 #'Fair'\n",
    "ExterQual['Po'] = 1 #'Poor'\n",
    "ExterQual['NA'] = 0 #'NA'\n",
    "\n",
    "train.ExterQual = train.ExterQual.map(ExterQual)\n",
    "test.ExterQual = test.ExterQual.map(ExterQual)\n",
    "print('train', train['ExterQual'].unique())\n",
    "print('test', test['ExterQual'].unique())"
   ]
  },
  {
   "cell_type": "markdown",
   "metadata": {
    "id": "8Ngf4ywW3Td6"
   },
   "source": [
    "Podemos codificar variables categóricas que son ordinales y medir su correlación con la variable objetivo. Las características categóricas con bajas correlaciones pueden excluirse del modelo, ya que son menos significativas."
   ]
  },
  {
   "cell_type": "code",
   "execution_count": null,
   "metadata": {
    "colab": {
     "base_uri": "https://localhost:8080/",
     "height": 299
    },
    "id": "-SNve66N4aMN",
    "outputId": "2fe408a2-c8f5-4db2-e612-fe7db4da50a9"
   },
   "outputs": [],
   "source": [
    "print('Correlation: ', train['ExterQual'].corr(train['SalePrice']))\n",
    "fig, ax = plt.subplots(1, 2)\n",
    "fig.set_size_inches(10, 4)\n",
    "train[\"ExterQual\"].value_counts().rename(\"\").plot.pie(autopct='%.2f', ax=ax[0], title=\"ExterQual\")\n",
    "test[\"ExterQual\"].value_counts().rename(\"\").plot.pie(autopct='%.2f', ax=ax[1], title=\"ExterQual_test\")"
   ]
  },
  {
   "cell_type": "markdown",
   "metadata": {
    "id": "96mC4wcgKh3h"
   },
   "source": [
    "Codifique un valor categórico `BsmtFinType1` que no sea ordinal con el método de codificación one-hot."
   ]
  },
  {
   "cell_type": "code",
   "execution_count": null,
   "metadata": {
    "colab": {
     "base_uri": "https://localhost:8080/"
    },
    "id": "zPVxyMmFKr3V",
    "outputId": "ca664c28-bc62-48d7-b645-e8a196368659"
   },
   "outputs": [],
   "source": [
    "train.groupby('BsmtFinType1').groups.keys()"
   ]
  },
  {
   "cell_type": "code",
   "execution_count": null,
   "metadata": {
    "colab": {
     "base_uri": "https://localhost:8080/",
     "height": 423
    },
    "id": "5BMbdno6ObCK",
    "outputId": "5fab97f7-ae28-4a35-fc12-71e76f235a35"
   },
   "outputs": [],
   "source": [
    "train[['BsmtFinType1']]"
   ]
  },
  {
   "cell_type": "code",
   "execution_count": null,
   "metadata": {
    "colab": {
     "base_uri": "https://localhost:8080/",
     "height": 829
    },
    "id": "vZUth31dDXgk",
    "outputId": "4d988817-397f-4fe6-82c6-f98cd46c442f"
   },
   "outputs": [],
   "source": [
    "#creating the encoder\n",
    "pt = OneHotEncoder()\n",
    "# transforming\n",
    "transformed = pt.fit_transform(train[['BsmtFinType1']]).toarray()\n",
    "df_transformed=pd.DataFrame(transformed, columns=['ALQ', 'BLQ', 'GLQ', 'LwQ', 'Rec', 'Unf','NA'])  #a dummy column is created for all categories are 0.0 this is 1.0, we can drop it\n",
    "display(df_transformed)\n",
    "#transformed.shape\n",
    "df_transformed.drop('NA', axis=1)"
   ]
  },
  {
   "cell_type": "markdown",
   "metadata": {
    "id": "-LAjmzlaMfvE"
   },
   "source": [
    "## Entrenar un modelo\n",
    "\n",
    "Para predecir una variable continua con un conjunto de datos etiquetado, podemos utilizar un modelo de regresión.\n",
    "\n",
    "Tomemos algunas características numéricas, las que tienen mayor correlación:\n",
    "\n",
    "```\n",
    " ('OverallQual', 0.7909816005838044),\n",
    " ('GrLivArea', 0.7086244776126523),\n",
    " ('GarageCars', 0.6404091972583529),\n",
    " ('GarageArea', 0.6234314389183618),\n",
    " ('TotalBsmtSF', 0.6135805515591956),\n",
    " ('1stFlrSF', 0.6058521846919147),\n",
    " ('FullBath', 0.5606637627484449),\n",
    "```\n",
    "\n"
   ]
  },
  {
   "cell_type": "code",
   "execution_count": null,
   "metadata": {
    "colab": {
     "base_uri": "https://localhost:8080/",
     "height": 51
    },
    "id": "d6B76CBWMfXC",
    "outputId": "a2f13ffe-1f07-4e86-86cc-b4995a18dbb9"
   },
   "outputs": [],
   "source": [
    "import pandas as pd\n",
    "from sklearn.ensemble import RandomForestRegressor\n",
    "\n",
    "# Read the train data\n",
    "train = pd.read_csv('train.csv')\n",
    "\n",
    "# Create a Random Forest object\n",
    "rf = RandomForestRegressor()\n",
    "\n",
    "features=['OverallQual', 'GrLivArea', 'GarageCars', 'GarageArea', 'TotalBsmtSF', '1stFlrSF', 'FullBath']\n",
    "# Train a model\n",
    "rf.fit(X=train[features], y=train['SalePrice'])"
   ]
  },
  {
   "cell_type": "markdown",
   "metadata": {
    "id": "8zGVpjJQNQji"
   },
   "source": [
    "## Preparar una presentación\n",
    "\n",
    "Lea los datos de prueba, haga predicciones y guárdelas en el formato especificado en el archivo \"sample_submission.csv\"."
   ]
  },
  {
   "cell_type": "code",
   "execution_count": null,
   "metadata": {
    "colab": {
     "base_uri": "https://localhost:8080/"
    },
    "id": "YTCP8KJGNPmv",
    "outputId": "0765c119-37c0-4c85-b8e4-4079dd80287d"
   },
   "outputs": [],
   "source": [
    "# Read test and sample submission data\n",
    "test = pd.read_csv('test.csv')\n",
    "sample_submission = pd.read_csv('sample_submission.csv')\n",
    "\n",
    "# Show the head() of the sample_submission\n",
    "print(sample_submission.head())"
   ]
  },
  {
   "cell_type": "markdown",
   "metadata": {
    "id": "O63gz2yVmo2U"
   },
   "source": [
    "## EJERCICIO 9\n",
    "\n",
    "Prepare un archivo de presentación llamado `kaggle_submission.csv` con las predicciones del modelo.\n",
    "\n",
    "Utilice el método `.predict()` del modelo para generar las predicciones."
   ]
  },
  {
   "cell_type": "code",
   "execution_count": null,
   "metadata": {
    "id": "WQHFJlOLn_80"
   },
   "outputs": [],
   "source": [
    "# Get predictions for the test set\n",
    "predict_df=test[features].fillna(0.0)  #in case there are some null values\n",
    "test['SalePrice'] = #your code\n",
    "\n",
    "# Write test predictions using the sample_submission format\n",
    "#your code\n",
    "\n",
    "#your code"
   ]
  },
  {
   "cell_type": "markdown",
   "metadata": {
    "id": "_VB_U-_mcYJ8"
   },
   "source": [
    "## Hacer una presentación\n",
    "\n",
    "En el panel de Kaggle se puede ver el resultado de la presentación."
   ]
  },
  {
   "cell_type": "markdown",
   "metadata": {
    "id": "6ebha8mXWSf6"
   },
   "source": [
    "## EJERCICIO 10\n",
    "\n",
    "Haga su propia presentación y compruebe su posición en la tabla de clasificación."
   ]
  },
  {
   "cell_type": "code",
   "execution_count": null,
   "metadata": {},
   "outputs": [],
   "source": []
  },
  {
   "cell_type": "code",
   "execution_count": null,
   "metadata": {
    "colab": {
     "base_uri": "https://localhost:8080/"
    },
    "id": "5TQfAqB8ccm0",
    "outputId": "d92ba053-132b-4cad-f32e-b5f10a885c66"
   },
   "outputs": [],
   "source": [
    "!kaggle competitions submit -c house-prices-advanced-regression-techniques -f kaggle_submission.csv -m \"today 2025-10-21 submission - model0\""
   ]
  }
 ],
 "metadata": {
  "colab": {
   "collapsed_sections": [
    "cHASOq20VGXY"
   ],
   "provenance": []
  },
  "kernelspec": {
   "display_name": "Python 3 (ipykernel)",
   "language": "python",
   "name": "python3"
  },
  "language_info": {
   "codemirror_mode": {
    "name": "ipython",
    "version": 3
   },
   "file_extension": ".py",
   "mimetype": "text/x-python",
   "name": "python",
   "nbconvert_exporter": "python",
   "pygments_lexer": "ipython3",
   "version": "3.10.12"
  }
 },
 "nbformat": 4,
 "nbformat_minor": 4
}
